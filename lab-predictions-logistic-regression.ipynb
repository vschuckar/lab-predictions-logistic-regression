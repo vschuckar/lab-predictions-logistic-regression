{
 "cells": [
  {
   "cell_type": "code",
   "execution_count": null,
   "id": "b7cefcc5",
   "metadata": {},
   "outputs": [],
   "source": [
    "# Lab | Making predictions with logistic regression\n",
    "# In this lab, you will be using the Sakila database of movie rentals.\n",
    "\n",
    "# In order to optimize our inventory, we would like to know which films will be rented. \n",
    "# We are asked to create a model to predict it. So we use the information we have from May 2005 to create the model.\n"
   ]
  },
  {
   "cell_type": "code",
   "execution_count": 1,
   "id": "7650645e",
   "metadata": {},
   "outputs": [],
   "source": [
    "import pymysql\n",
    "from sqlalchemy import create_engine, text\n",
    "import pandas as pd\n",
    "import getpass\n",
    "import seaborn as sns \n",
    "import matplotlib.pyplot as plt\n",
    "import numpy as np"
   ]
  },
  {
   "cell_type": "code",
   "execution_count": 2,
   "id": "6180dfbe",
   "metadata": {},
   "outputs": [
    {
     "name": "stdout",
     "output_type": "stream",
     "text": [
      "········\n"
     ]
    }
   ],
   "source": [
    "password = getpass.getpass()"
   ]
  },
  {
   "cell_type": "code",
   "execution_count": 3,
   "id": "c947b379",
   "metadata": {},
   "outputs": [],
   "source": [
    "# 1. Create a query or queries to extract the information you think may be relevant for building the \n",
    "# prediction model. It should include some film features and some rental features (X).\n",
    "\n",
    "connection_string = 'mysql+pymysql://root:' + password + '@localhost/sakila'\n",
    "engine = create_engine(connection_string)\n",
    "query = '''SELECT f.title, f.rating, f.rental_rate, f.length, c.name AS category \n",
    "FROM film f\n",
    "JOIN film_category fc\n",
    "ON f.film_id = fc.film_id\n",
    "JOIN category c \n",
    "ON fc.category_id = c.category_id\n",
    "ORDER BY f.film_id;'''"
   ]
  },
  {
   "cell_type": "code",
   "execution_count": 4,
   "id": "a5e516f5",
   "metadata": {},
   "outputs": [],
   "source": [
    "# 2. Create a query to get the list of all unique film titles and a boolean indicating if it was rented (rental_date) in May 2005. \n",
    "# (Create new column called - 'rented_in_may'). This will be our TARGET (y) variable.\n",
    "\n",
    "query2 = '''SELECT DISTINCT f.title,\n",
    "    CASE\n",
    "    WHEN EXISTS (\n",
    "        SELECT 1\n",
    "        FROM inventory i\n",
    "        JOIN rental r ON i.inventory_id = r.inventory_id\n",
    "        WHERE f.film_id = i.film_id AND MONTH(r.rental_date) = 5) \n",
    "        THEN 'yes'\n",
    "        ELSE 'no'\n",
    "    END AS rented_in_may\n",
    "FROM film f;'''"
   ]
  },
  {
   "cell_type": "code",
   "execution_count": 5,
   "id": "d535b3b4",
   "metadata": {},
   "outputs": [
    {
     "data": {
      "text/html": [
       "<div>\n",
       "<style scoped>\n",
       "    .dataframe tbody tr th:only-of-type {\n",
       "        vertical-align: middle;\n",
       "    }\n",
       "\n",
       "    .dataframe tbody tr th {\n",
       "        vertical-align: top;\n",
       "    }\n",
       "\n",
       "    .dataframe thead th {\n",
       "        text-align: right;\n",
       "    }\n",
       "</style>\n",
       "<table border=\"1\" class=\"dataframe\">\n",
       "  <thead>\n",
       "    <tr style=\"text-align: right;\">\n",
       "      <th></th>\n",
       "      <th>title</th>\n",
       "      <th>rating</th>\n",
       "      <th>rental_rate</th>\n",
       "      <th>length</th>\n",
       "      <th>category</th>\n",
       "    </tr>\n",
       "  </thead>\n",
       "  <tbody>\n",
       "    <tr>\n",
       "      <th>0</th>\n",
       "      <td>ACADEMY DINOSAUR</td>\n",
       "      <td>PG</td>\n",
       "      <td>0.99</td>\n",
       "      <td>86</td>\n",
       "      <td>Documentary</td>\n",
       "    </tr>\n",
       "    <tr>\n",
       "      <th>1</th>\n",
       "      <td>ACE GOLDFINGER</td>\n",
       "      <td>G</td>\n",
       "      <td>4.99</td>\n",
       "      <td>48</td>\n",
       "      <td>Horror</td>\n",
       "    </tr>\n",
       "    <tr>\n",
       "      <th>2</th>\n",
       "      <td>ADAPTATION HOLES</td>\n",
       "      <td>NC-17</td>\n",
       "      <td>2.99</td>\n",
       "      <td>50</td>\n",
       "      <td>Documentary</td>\n",
       "    </tr>\n",
       "    <tr>\n",
       "      <th>3</th>\n",
       "      <td>AFFAIR PREJUDICE</td>\n",
       "      <td>G</td>\n",
       "      <td>2.99</td>\n",
       "      <td>117</td>\n",
       "      <td>Horror</td>\n",
       "    </tr>\n",
       "    <tr>\n",
       "      <th>4</th>\n",
       "      <td>AFRICAN EGG</td>\n",
       "      <td>G</td>\n",
       "      <td>2.99</td>\n",
       "      <td>130</td>\n",
       "      <td>Family</td>\n",
       "    </tr>\n",
       "  </tbody>\n",
       "</table>\n",
       "</div>"
      ],
      "text/plain": [
       "              title rating  rental_rate  length     category\n",
       "0  ACADEMY DINOSAUR     PG         0.99      86  Documentary\n",
       "1    ACE GOLDFINGER      G         4.99      48       Horror\n",
       "2  ADAPTATION HOLES  NC-17         2.99      50  Documentary\n",
       "3  AFFAIR PREJUDICE      G         2.99     117       Horror\n",
       "4       AFRICAN EGG      G         2.99     130       Family"
      ]
     },
     "execution_count": 5,
     "metadata": {},
     "output_type": "execute_result"
    }
   ],
   "source": [
    "# 3. Read the data into a Pandas dataframe. At this point you should have 1000 rows. \n",
    "# Number of columns depends on the number of features you chose.\n",
    "\n",
    "data_x = pd.read_sql_query(query, engine)\n",
    "data_x.head()"
   ]
  },
  {
   "cell_type": "code",
   "execution_count": 6,
   "id": "d701a69c",
   "metadata": {},
   "outputs": [
    {
     "data": {
      "text/html": [
       "<div>\n",
       "<style scoped>\n",
       "    .dataframe tbody tr th:only-of-type {\n",
       "        vertical-align: middle;\n",
       "    }\n",
       "\n",
       "    .dataframe tbody tr th {\n",
       "        vertical-align: top;\n",
       "    }\n",
       "\n",
       "    .dataframe thead th {\n",
       "        text-align: right;\n",
       "    }\n",
       "</style>\n",
       "<table border=\"1\" class=\"dataframe\">\n",
       "  <thead>\n",
       "    <tr style=\"text-align: right;\">\n",
       "      <th></th>\n",
       "      <th>title</th>\n",
       "      <th>rented_in_may</th>\n",
       "    </tr>\n",
       "  </thead>\n",
       "  <tbody>\n",
       "    <tr>\n",
       "      <th>0</th>\n",
       "      <td>ACADEMY DINOSAUR</td>\n",
       "      <td>yes</td>\n",
       "    </tr>\n",
       "    <tr>\n",
       "      <th>1</th>\n",
       "      <td>ACE GOLDFINGER</td>\n",
       "      <td>no</td>\n",
       "    </tr>\n",
       "    <tr>\n",
       "      <th>2</th>\n",
       "      <td>ADAPTATION HOLES</td>\n",
       "      <td>yes</td>\n",
       "    </tr>\n",
       "    <tr>\n",
       "      <th>3</th>\n",
       "      <td>AFFAIR PREJUDICE</td>\n",
       "      <td>yes</td>\n",
       "    </tr>\n",
       "    <tr>\n",
       "      <th>4</th>\n",
       "      <td>AFRICAN EGG</td>\n",
       "      <td>yes</td>\n",
       "    </tr>\n",
       "  </tbody>\n",
       "</table>\n",
       "</div>"
      ],
      "text/plain": [
       "              title rented_in_may\n",
       "0  ACADEMY DINOSAUR           yes\n",
       "1    ACE GOLDFINGER            no\n",
       "2  ADAPTATION HOLES           yes\n",
       "3  AFFAIR PREJUDICE           yes\n",
       "4       AFRICAN EGG           yes"
      ]
     },
     "execution_count": 6,
     "metadata": {},
     "output_type": "execute_result"
    }
   ],
   "source": [
    "data_y = pd.read_sql_query(query2, engine)\n",
    "data_y.head()"
   ]
  },
  {
   "cell_type": "code",
   "execution_count": 7,
   "id": "8a456cc9",
   "metadata": {},
   "outputs": [
    {
     "data": {
      "text/plain": [
       "title           object\n",
       "rating          object\n",
       "rental_rate    float64\n",
       "length           int64\n",
       "category        object\n",
       "dtype: object"
      ]
     },
     "execution_count": 7,
     "metadata": {},
     "output_type": "execute_result"
    }
   ],
   "source": [
    "# 4. Analyze extracted features (X) and transform them. \n",
    "# You may need to encode some categorical variables, or scale numerical variables.\n",
    "\n",
    "data_x.dtypes"
   ]
  },
  {
   "cell_type": "code",
   "execution_count": 8,
   "id": "f813868e",
   "metadata": {},
   "outputs": [
    {
     "data": {
      "image/png": "[encoded data removed]",
      "text/plain": [
       "<Figure size 1000x800 with 2 Axes>"
      ]
     },
     "metadata": {},
     "output_type": "display_data"
    }
   ],
   "source": [
    "corr_matrix = data_x.select_dtypes(np.number).corr(method = 'pearson')  # no correlation\n",
    "fig, ax = plt.subplots(figsize = (10, 8))\n",
    "ax = sns.heatmap(corr_matrix, annot = True)\n",
    "plt.show()"
   ]
  },
  {
   "cell_type": "code",
   "execution_count": 9,
   "id": "7b1fd466",
   "metadata": {},
   "outputs": [],
   "source": [
    "def plot_distributions(df):\n",
    "    numerical_columns = df.select_dtypes(np.number)\n",
    "    for col in numerical_columns:\n",
    "        sns.displot(df[col])\n",
    "        plt.show()"
   ]
  },
  {
   "cell_type": "code",
   "execution_count": 10,
   "id": "309c985e",
   "metadata": {},
   "outputs": [
    {
     "name": "stderr",
     "output_type": "stream",
     "text": [
      "/Users/vschuckar/anaconda3/lib/python3.11/site-packages/seaborn/axisgrid.py:118: UserWarning: The figure layout has changed to tight\n",
      "  self._figure.tight_layout(*args, **kwargs)\n"
     ]
    },
    {
     "data": {
      "image/png": "[encoded data removed]",
      "text/plain": [
       "<Figure size 500x500 with 1 Axes>"
      ]
     },
     "metadata": {},
     "output_type": "display_data"
    },
    {
     "name": "stderr",
     "output_type": "stream",
     "text": [
      "/Users/vschuckar/anaconda3/lib/python3.11/site-packages/seaborn/axisgrid.py:118: UserWarning: The figure layout has changed to tight\n",
      "  self._figure.tight_layout(*args, **kwargs)\n"
     ]
    },
    {
     "data": {
      "image/png": "[encoded data removed]",
      "text/plain": [
       "<Figure size 500x500 with 1 Axes>"
      ]
     },
     "metadata": {},
     "output_type": "display_data"
    }
   ],
   "source": [
    "plot_distributions(data_x)"
   ]
  },
  {
   "cell_type": "code",
   "execution_count": 11,
   "id": "2722e3b6",
   "metadata": {},
   "outputs": [
    {
     "data": {
      "text/plain": [
       "0.03332116668451906"
      ]
     },
     "execution_count": 11,
     "metadata": {},
     "output_type": "execute_result"
    }
   ],
   "source": [
    "data_x['length'].skew() # not high so I will go straight to the minmax scaler and not do distribution"
   ]
  },
  {
   "cell_type": "code",
   "execution_count": 12,
   "id": "0c545685",
   "metadata": {},
   "outputs": [],
   "source": [
    "data_x['rental_rate'] = data_x['rental_rate'].astype('object') # I will treat rental_rate as categorical since it only has 3 values "
   ]
  },
  {
   "cell_type": "code",
   "execution_count": 13,
   "id": "160ef965",
   "metadata": {},
   "outputs": [
    {
     "data": {
      "text/plain": [
       "rental_rate\n",
       "0.99    341\n",
       "4.99    336\n",
       "2.99    323\n",
       "Name: count, dtype: int64"
      ]
     },
     "execution_count": 13,
     "metadata": {},
     "output_type": "execute_result"
    }
   ],
   "source": [
    "data_x['rental_rate'].value_counts()"
   ]
  },
  {
   "cell_type": "code",
   "execution_count": 14,
   "id": "3ccb203e",
   "metadata": {},
   "outputs": [
    {
     "data": {
      "text/html": [
       "<div>\n",
       "<style scoped>\n",
       "    .dataframe tbody tr th:only-of-type {\n",
       "        vertical-align: middle;\n",
       "    }\n",
       "\n",
       "    .dataframe tbody tr th {\n",
       "        vertical-align: top;\n",
       "    }\n",
       "\n",
       "    .dataframe thead th {\n",
       "        text-align: right;\n",
       "    }\n",
       "</style>\n",
       "<table border=\"1\" class=\"dataframe\">\n",
       "  <thead>\n",
       "    <tr style=\"text-align: right;\">\n",
       "      <th></th>\n",
       "      <th>title</th>\n",
       "      <th>rating</th>\n",
       "      <th>rental_rate</th>\n",
       "      <th>length</th>\n",
       "      <th>category</th>\n",
       "      <th>rented_in_may</th>\n",
       "    </tr>\n",
       "  </thead>\n",
       "  <tbody>\n",
       "    <tr>\n",
       "      <th>0</th>\n",
       "      <td>ACADEMY DINOSAUR</td>\n",
       "      <td>PG</td>\n",
       "      <td>0.99</td>\n",
       "      <td>86</td>\n",
       "      <td>Documentary</td>\n",
       "      <td>yes</td>\n",
       "    </tr>\n",
       "    <tr>\n",
       "      <th>1</th>\n",
       "      <td>ACE GOLDFINGER</td>\n",
       "      <td>G</td>\n",
       "      <td>4.99</td>\n",
       "      <td>48</td>\n",
       "      <td>Horror</td>\n",
       "      <td>no</td>\n",
       "    </tr>\n",
       "    <tr>\n",
       "      <th>2</th>\n",
       "      <td>ADAPTATION HOLES</td>\n",
       "      <td>NC-17</td>\n",
       "      <td>2.99</td>\n",
       "      <td>50</td>\n",
       "      <td>Documentary</td>\n",
       "      <td>yes</td>\n",
       "    </tr>\n",
       "    <tr>\n",
       "      <th>3</th>\n",
       "      <td>AFFAIR PREJUDICE</td>\n",
       "      <td>G</td>\n",
       "      <td>2.99</td>\n",
       "      <td>117</td>\n",
       "      <td>Horror</td>\n",
       "      <td>yes</td>\n",
       "    </tr>\n",
       "    <tr>\n",
       "      <th>4</th>\n",
       "      <td>AFRICAN EGG</td>\n",
       "      <td>G</td>\n",
       "      <td>2.99</td>\n",
       "      <td>130</td>\n",
       "      <td>Family</td>\n",
       "      <td>yes</td>\n",
       "    </tr>\n",
       "  </tbody>\n",
       "</table>\n",
       "</div>"
      ],
      "text/plain": [
       "              title rating rental_rate  length     category rented_in_may\n",
       "0  ACADEMY DINOSAUR     PG        0.99      86  Documentary           yes\n",
       "1    ACE GOLDFINGER      G        4.99      48       Horror            no\n",
       "2  ADAPTATION HOLES  NC-17        2.99      50  Documentary           yes\n",
       "3  AFFAIR PREJUDICE      G        2.99     117       Horror           yes\n",
       "4       AFRICAN EGG      G        2.99     130       Family           yes"
      ]
     },
     "execution_count": 14,
     "metadata": {},
     "output_type": "execute_result"
    }
   ],
   "source": [
    "data = pd.merge(data_x, data_y, on = 'title', how = 'inner')\n",
    "data.head()"
   ]
  },
  {
   "cell_type": "code",
   "execution_count": 15,
   "id": "162c963e",
   "metadata": {},
   "outputs": [
    {
     "data": {
      "text/plain": [
       "title            object\n",
       "rating           object\n",
       "rental_rate      object\n",
       "length            int64\n",
       "category         object\n",
       "rented_in_may    object\n",
       "dtype: object"
      ]
     },
     "execution_count": 15,
     "metadata": {},
     "output_type": "execute_result"
    }
   ],
   "source": [
    "data.dtypes"
   ]
  },
  {
   "cell_type": "code",
   "execution_count": 16,
   "id": "a7d48307",
   "metadata": {},
   "outputs": [],
   "source": [
    "y = data['rented_in_may']\n",
    "X = data.drop(['rented_in_may', 'title'], axis = 1)\n",
    "\n",
    "from sklearn.model_selection import train_test_split\n",
    "\n",
    "X_train, X_test, y_train, y_test = train_test_split(X, y, test_size = 0.2, random_state = 5)"
   ]
  },
  {
   "cell_type": "code",
   "execution_count": 17,
   "id": "2e4df382",
   "metadata": {},
   "outputs": [],
   "source": [
    "from sklearn.preprocessing import MinMaxScaler\n",
    "\n",
    "X_train_num = X_train.select_dtypes(include = np.number) \n",
    "X_test_num  = X_test.select_dtypes(include = np.number)\n",
    "\n",
    "transformer = MinMaxScaler().fit(X_train_num) \n",
    "\n",
    "X_train_normalized = transformer.transform(X_train_num)\n",
    "X_test_normalized  = transformer.transform(X_test_num)\n",
    "\n",
    "X_train_norm = pd.DataFrame(X_train_normalized, columns = X_train_num.columns, index = X_train_num.index)\n",
    "X_test_norm  = pd.DataFrame(X_test_normalized, columns = X_test_num.columns, index = X_test_num.index)"
   ]
  },
  {
   "cell_type": "code",
   "execution_count": 18,
   "id": "893477be",
   "metadata": {},
   "outputs": [
    {
     "data": {
      "text/html": [
       "<div>\n",
       "<style scoped>\n",
       "    .dataframe tbody tr th:only-of-type {\n",
       "        vertical-align: middle;\n",
       "    }\n",
       "\n",
       "    .dataframe tbody tr th {\n",
       "        vertical-align: top;\n",
       "    }\n",
       "\n",
       "    .dataframe thead th {\n",
       "        text-align: right;\n",
       "    }\n",
       "</style>\n",
       "<table border=\"1\" class=\"dataframe\">\n",
       "  <thead>\n",
       "    <tr style=\"text-align: right;\">\n",
       "      <th></th>\n",
       "      <th>rating_NC-17</th>\n",
       "      <th>rating_PG</th>\n",
       "      <th>rating_PG-13</th>\n",
       "      <th>rating_R</th>\n",
       "      <th>rental_rate_2.99</th>\n",
       "      <th>rental_rate_4.99</th>\n",
       "      <th>category_Animation</th>\n",
       "      <th>category_Children</th>\n",
       "      <th>category_Classics</th>\n",
       "      <th>category_Comedy</th>\n",
       "      <th>...</th>\n",
       "      <th>category_Drama</th>\n",
       "      <th>category_Family</th>\n",
       "      <th>category_Foreign</th>\n",
       "      <th>category_Games</th>\n",
       "      <th>category_Horror</th>\n",
       "      <th>category_Music</th>\n",
       "      <th>category_New</th>\n",
       "      <th>category_Sci-Fi</th>\n",
       "      <th>category_Sports</th>\n",
       "      <th>category_Travel</th>\n",
       "    </tr>\n",
       "  </thead>\n",
       "  <tbody>\n",
       "    <tr>\n",
       "      <th>40</th>\n",
       "      <td>0.0</td>\n",
       "      <td>1.0</td>\n",
       "      <td>0.0</td>\n",
       "      <td>0.0</td>\n",
       "      <td>0.0</td>\n",
       "      <td>0.0</td>\n",
       "      <td>0.0</td>\n",
       "      <td>0.0</td>\n",
       "      <td>0.0</td>\n",
       "      <td>0.0</td>\n",
       "      <td>...</td>\n",
       "      <td>0.0</td>\n",
       "      <td>0.0</td>\n",
       "      <td>0.0</td>\n",
       "      <td>0.0</td>\n",
       "      <td>0.0</td>\n",
       "      <td>0.0</td>\n",
       "      <td>0.0</td>\n",
       "      <td>0.0</td>\n",
       "      <td>0.0</td>\n",
       "      <td>1.0</td>\n",
       "    </tr>\n",
       "    <tr>\n",
       "      <th>977</th>\n",
       "      <td>0.0</td>\n",
       "      <td>0.0</td>\n",
       "      <td>0.0</td>\n",
       "      <td>1.0</td>\n",
       "      <td>0.0</td>\n",
       "      <td>0.0</td>\n",
       "      <td>0.0</td>\n",
       "      <td>0.0</td>\n",
       "      <td>0.0</td>\n",
       "      <td>1.0</td>\n",
       "      <td>...</td>\n",
       "      <td>0.0</td>\n",
       "      <td>0.0</td>\n",
       "      <td>0.0</td>\n",
       "      <td>0.0</td>\n",
       "      <td>0.0</td>\n",
       "      <td>0.0</td>\n",
       "      <td>0.0</td>\n",
       "      <td>0.0</td>\n",
       "      <td>0.0</td>\n",
       "      <td>0.0</td>\n",
       "    </tr>\n",
       "    <tr>\n",
       "      <th>829</th>\n",
       "      <td>0.0</td>\n",
       "      <td>0.0</td>\n",
       "      <td>0.0</td>\n",
       "      <td>1.0</td>\n",
       "      <td>0.0</td>\n",
       "      <td>0.0</td>\n",
       "      <td>0.0</td>\n",
       "      <td>0.0</td>\n",
       "      <td>0.0</td>\n",
       "      <td>0.0</td>\n",
       "      <td>...</td>\n",
       "      <td>0.0</td>\n",
       "      <td>0.0</td>\n",
       "      <td>0.0</td>\n",
       "      <td>0.0</td>\n",
       "      <td>1.0</td>\n",
       "      <td>0.0</td>\n",
       "      <td>0.0</td>\n",
       "      <td>0.0</td>\n",
       "      <td>0.0</td>\n",
       "      <td>0.0</td>\n",
       "    </tr>\n",
       "    <tr>\n",
       "      <th>973</th>\n",
       "      <td>0.0</td>\n",
       "      <td>0.0</td>\n",
       "      <td>0.0</td>\n",
       "      <td>1.0</td>\n",
       "      <td>0.0</td>\n",
       "      <td>0.0</td>\n",
       "      <td>0.0</td>\n",
       "      <td>0.0</td>\n",
       "      <td>0.0</td>\n",
       "      <td>0.0</td>\n",
       "      <td>...</td>\n",
       "      <td>0.0</td>\n",
       "      <td>0.0</td>\n",
       "      <td>0.0</td>\n",
       "      <td>0.0</td>\n",
       "      <td>0.0</td>\n",
       "      <td>0.0</td>\n",
       "      <td>1.0</td>\n",
       "      <td>0.0</td>\n",
       "      <td>0.0</td>\n",
       "      <td>0.0</td>\n",
       "    </tr>\n",
       "    <tr>\n",
       "      <th>874</th>\n",
       "      <td>0.0</td>\n",
       "      <td>1.0</td>\n",
       "      <td>0.0</td>\n",
       "      <td>0.0</td>\n",
       "      <td>0.0</td>\n",
       "      <td>0.0</td>\n",
       "      <td>0.0</td>\n",
       "      <td>0.0</td>\n",
       "      <td>0.0</td>\n",
       "      <td>0.0</td>\n",
       "      <td>...</td>\n",
       "      <td>0.0</td>\n",
       "      <td>0.0</td>\n",
       "      <td>0.0</td>\n",
       "      <td>0.0</td>\n",
       "      <td>0.0</td>\n",
       "      <td>0.0</td>\n",
       "      <td>0.0</td>\n",
       "      <td>0.0</td>\n",
       "      <td>1.0</td>\n",
       "      <td>0.0</td>\n",
       "    </tr>\n",
       "    <tr>\n",
       "      <th>...</th>\n",
       "      <td>...</td>\n",
       "      <td>...</td>\n",
       "      <td>...</td>\n",
       "      <td>...</td>\n",
       "      <td>...</td>\n",
       "      <td>...</td>\n",
       "      <td>...</td>\n",
       "      <td>...</td>\n",
       "      <td>...</td>\n",
       "      <td>...</td>\n",
       "      <td>...</td>\n",
       "      <td>...</td>\n",
       "      <td>...</td>\n",
       "      <td>...</td>\n",
       "      <td>...</td>\n",
       "      <td>...</td>\n",
       "      <td>...</td>\n",
       "      <td>...</td>\n",
       "      <td>...</td>\n",
       "      <td>...</td>\n",
       "      <td>...</td>\n",
       "    </tr>\n",
       "    <tr>\n",
       "      <th>400</th>\n",
       "      <td>1.0</td>\n",
       "      <td>0.0</td>\n",
       "      <td>0.0</td>\n",
       "      <td>0.0</td>\n",
       "      <td>0.0</td>\n",
       "      <td>0.0</td>\n",
       "      <td>0.0</td>\n",
       "      <td>0.0</td>\n",
       "      <td>0.0</td>\n",
       "      <td>0.0</td>\n",
       "      <td>...</td>\n",
       "      <td>1.0</td>\n",
       "      <td>0.0</td>\n",
       "      <td>0.0</td>\n",
       "      <td>0.0</td>\n",
       "      <td>0.0</td>\n",
       "      <td>0.0</td>\n",
       "      <td>0.0</td>\n",
       "      <td>0.0</td>\n",
       "      <td>0.0</td>\n",
       "      <td>0.0</td>\n",
       "    </tr>\n",
       "    <tr>\n",
       "      <th>118</th>\n",
       "      <td>0.0</td>\n",
       "      <td>0.0</td>\n",
       "      <td>0.0</td>\n",
       "      <td>0.0</td>\n",
       "      <td>0.0</td>\n",
       "      <td>0.0</td>\n",
       "      <td>0.0</td>\n",
       "      <td>0.0</td>\n",
       "      <td>0.0</td>\n",
       "      <td>1.0</td>\n",
       "      <td>...</td>\n",
       "      <td>0.0</td>\n",
       "      <td>0.0</td>\n",
       "      <td>0.0</td>\n",
       "      <td>0.0</td>\n",
       "      <td>0.0</td>\n",
       "      <td>0.0</td>\n",
       "      <td>0.0</td>\n",
       "      <td>0.0</td>\n",
       "      <td>0.0</td>\n",
       "      <td>0.0</td>\n",
       "    </tr>\n",
       "    <tr>\n",
       "      <th>701</th>\n",
       "      <td>0.0</td>\n",
       "      <td>0.0</td>\n",
       "      <td>0.0</td>\n",
       "      <td>0.0</td>\n",
       "      <td>1.0</td>\n",
       "      <td>0.0</td>\n",
       "      <td>0.0</td>\n",
       "      <td>0.0</td>\n",
       "      <td>0.0</td>\n",
       "      <td>0.0</td>\n",
       "      <td>...</td>\n",
       "      <td>0.0</td>\n",
       "      <td>0.0</td>\n",
       "      <td>0.0</td>\n",
       "      <td>0.0</td>\n",
       "      <td>1.0</td>\n",
       "      <td>0.0</td>\n",
       "      <td>0.0</td>\n",
       "      <td>0.0</td>\n",
       "      <td>0.0</td>\n",
       "      <td>0.0</td>\n",
       "    </tr>\n",
       "    <tr>\n",
       "      <th>206</th>\n",
       "      <td>0.0</td>\n",
       "      <td>1.0</td>\n",
       "      <td>0.0</td>\n",
       "      <td>0.0</td>\n",
       "      <td>0.0</td>\n",
       "      <td>1.0</td>\n",
       "      <td>0.0</td>\n",
       "      <td>0.0</td>\n",
       "      <td>0.0</td>\n",
       "      <td>0.0</td>\n",
       "      <td>...</td>\n",
       "      <td>0.0</td>\n",
       "      <td>0.0</td>\n",
       "      <td>1.0</td>\n",
       "      <td>0.0</td>\n",
       "      <td>0.0</td>\n",
       "      <td>0.0</td>\n",
       "      <td>0.0</td>\n",
       "      <td>0.0</td>\n",
       "      <td>0.0</td>\n",
       "      <td>0.0</td>\n",
       "    </tr>\n",
       "    <tr>\n",
       "      <th>867</th>\n",
       "      <td>0.0</td>\n",
       "      <td>1.0</td>\n",
       "      <td>0.0</td>\n",
       "      <td>0.0</td>\n",
       "      <td>0.0</td>\n",
       "      <td>0.0</td>\n",
       "      <td>0.0</td>\n",
       "      <td>0.0</td>\n",
       "      <td>0.0</td>\n",
       "      <td>0.0</td>\n",
       "      <td>...</td>\n",
       "      <td>0.0</td>\n",
       "      <td>0.0</td>\n",
       "      <td>0.0</td>\n",
       "      <td>0.0</td>\n",
       "      <td>0.0</td>\n",
       "      <td>0.0</td>\n",
       "      <td>0.0</td>\n",
       "      <td>0.0</td>\n",
       "      <td>0.0</td>\n",
       "      <td>1.0</td>\n",
       "    </tr>\n",
       "  </tbody>\n",
       "</table>\n",
       "<p>800 rows × 21 columns</p>\n",
       "</div>"
      ],
      "text/plain": [
       "     rating_NC-17  rating_PG  rating_PG-13  rating_R  rental_rate_2.99  \\\n",
       "40            0.0        1.0           0.0       0.0               0.0   \n",
       "977           0.0        0.0           0.0       1.0               0.0   \n",
       "829           0.0        0.0           0.0       1.0               0.0   \n",
       "973           0.0        0.0           0.0       1.0               0.0   \n",
       "874           0.0        1.0           0.0       0.0               0.0   \n",
       "..            ...        ...           ...       ...               ...   \n",
       "400           1.0        0.0           0.0       0.0               0.0   \n",
       "118           0.0        0.0           0.0       0.0               0.0   \n",
       "701           0.0        0.0           0.0       0.0               1.0   \n",
       "206           0.0        1.0           0.0       0.0               0.0   \n",
       "867           0.0        1.0           0.0       0.0               0.0   \n",
       "\n",
       "     rental_rate_4.99  category_Animation  category_Children  \\\n",
       "40                0.0                 0.0                0.0   \n",
       "977               0.0                 0.0                0.0   \n",
       "829               0.0                 0.0                0.0   \n",
       "973               0.0                 0.0                0.0   \n",
       "874               0.0                 0.0                0.0   \n",
       "..                ...                 ...                ...   \n",
       "400               0.0                 0.0                0.0   \n",
       "118               0.0                 0.0                0.0   \n",
       "701               0.0                 0.0                0.0   \n",
       "206               1.0                 0.0                0.0   \n",
       "867               0.0                 0.0                0.0   \n",
       "\n",
       "     category_Classics  category_Comedy  ...  category_Drama  category_Family  \\\n",
       "40                 0.0              0.0  ...             0.0              0.0   \n",
       "977                0.0              1.0  ...             0.0              0.0   \n",
       "829                0.0              0.0  ...             0.0              0.0   \n",
       "973                0.0              0.0  ...             0.0              0.0   \n",
       "874                0.0              0.0  ...             0.0              0.0   \n",
       "..                 ...              ...  ...             ...              ...   \n",
       "400                0.0              0.0  ...             1.0              0.0   \n",
       "118                0.0              1.0  ...             0.0              0.0   \n",
       "701                0.0              0.0  ...             0.0              0.0   \n",
       "206                0.0              0.0  ...             0.0              0.0   \n",
       "867                0.0              0.0  ...             0.0              0.0   \n",
       "\n",
       "     category_Foreign  category_Games  category_Horror  category_Music  \\\n",
       "40                0.0             0.0              0.0             0.0   \n",
       "977               0.0             0.0              0.0             0.0   \n",
       "829               0.0             0.0              1.0             0.0   \n",
       "973               0.0             0.0              0.0             0.0   \n",
       "874               0.0             0.0              0.0             0.0   \n",
       "..                ...             ...              ...             ...   \n",
       "400               0.0             0.0              0.0             0.0   \n",
       "118               0.0             0.0              0.0             0.0   \n",
       "701               0.0             0.0              1.0             0.0   \n",
       "206               1.0             0.0              0.0             0.0   \n",
       "867               0.0             0.0              0.0             0.0   \n",
       "\n",
       "     category_New  category_Sci-Fi  category_Sports  category_Travel  \n",
       "40            0.0              0.0              0.0              1.0  \n",
       "977           0.0              0.0              0.0              0.0  \n",
       "829           0.0              0.0              0.0              0.0  \n",
       "973           1.0              0.0              0.0              0.0  \n",
       "874           0.0              0.0              1.0              0.0  \n",
       "..            ...              ...              ...              ...  \n",
       "400           0.0              0.0              0.0              0.0  \n",
       "118           0.0              0.0              0.0              0.0  \n",
       "701           0.0              0.0              0.0              0.0  \n",
       "206           0.0              0.0              0.0              0.0  \n",
       "867           0.0              0.0              0.0              1.0  \n",
       "\n",
       "[800 rows x 21 columns]"
      ]
     },
     "metadata": {},
     "output_type": "display_data"
    }
   ],
   "source": [
    "from sklearn.preprocessing import OneHotEncoder\n",
    "\n",
    "X_train_categorical = X_train.select_dtypes('object')\n",
    "X_test_categorical  = X_test.select_dtypes('object')\n",
    "\n",
    "encoder = OneHotEncoder(drop = 'first') \n",
    "encoder.fit(X_train_categorical)\n",
    "\n",
    "X_train_cat_np = encoder.transform(X_train_categorical).toarray()\n",
    "X_test_cat_np  = encoder.transform(X_test_categorical).toarray()\n",
    "\n",
    "X_train_cat = pd.DataFrame(X_train_cat_np, columns = encoder.get_feature_names_out(), \n",
    "                           index = X_train_categorical.index)\n",
    "X_test_cat  = pd.DataFrame(X_test_cat_np,  columns = encoder.get_feature_names_out(),\n",
    "                          index = X_test_categorical.index)\n",
    "display(X_train_cat)"
   ]
  },
  {
   "cell_type": "code",
   "execution_count": 19,
   "id": "ef6246ba",
   "metadata": {},
   "outputs": [],
   "source": [
    "X_train_transformed = pd.concat([X_train_norm, X_train_cat], axis = 1)"
   ]
  },
  {
   "cell_type": "code",
   "execution_count": 20,
   "id": "a876353f",
   "metadata": {},
   "outputs": [
    {
     "data": {
      "text/html": [
       "<style>#sk-container-id-1 {color: black;}#sk-container-id-1 pre{padding: 0;}#sk-container-id-1 div.sk-toggleable {background-color: white;}#sk-container-id-1 label.sk-toggleable__label {cursor: pointer;display: block;width: 100%;margin-bottom: 0;padding: 0.3em;box-sizing: border-box;text-align: center;}#sk-container-id-1 label.sk-toggleable__label-arrow:before {content: \"▸\";float: left;margin-right: 0.25em;color: #696969;}#sk-container-id-1 label.sk-toggleable__label-arrow:hover:before {color: black;}#sk-container-id-1 div.sk-estimator:hover label.sk-toggleable__label-arrow:before {color: black;}#sk-container-id-1 div.sk-toggleable__content {max-height: 0;max-width: 0;overflow: hidden;text-align: left;background-color: #f0f8ff;}#sk-container-id-1 div.sk-toggleable__content pre {margin: 0.2em;color: black;border-radius: 0.25em;background-color: #f0f8ff;}#sk-container-id-1 input.sk-toggleable__control:checked~div.sk-toggleable__content {max-height: 200px;max-width: 100%;overflow: auto;}#sk-container-id-1 input.sk-toggleable__control:checked~label.sk-toggleable__label-arrow:before {content: \"▾\";}#sk-container-id-1 div.sk-estimator input.sk-toggleable__control:checked~label.sk-toggleable__label {background-color: #d4ebff;}#sk-container-id-1 div.sk-label input.sk-toggleable__control:checked~label.sk-toggleable__label {background-color: #d4ebff;}#sk-container-id-1 input.sk-hidden--visually {border: 0;clip: rect(1px 1px 1px 1px);clip: rect(1px, 1px, 1px, 1px);height: 1px;margin: -1px;overflow: hidden;padding: 0;position: absolute;width: 1px;}#sk-container-id-1 div.sk-estimator {font-family: monospace;background-color: #f0f8ff;border: 1px dotted black;border-radius: 0.25em;box-sizing: border-box;margin-bottom: 0.5em;}#sk-container-id-1 div.sk-estimator:hover {background-color: #d4ebff;}#sk-container-id-1 div.sk-parallel-item::after {content: \"\";width: 100%;border-bottom: 1px solid gray;flex-grow: 1;}#sk-container-id-1 div.sk-label:hover label.sk-toggleable__label {background-color: #d4ebff;}#sk-container-id-1 div.sk-serial::before {content: \"\";position: absolute;border-left: 1px solid gray;box-sizing: border-box;top: 0;bottom: 0;left: 50%;z-index: 0;}#sk-container-id-1 div.sk-serial {display: flex;flex-direction: column;align-items: center;background-color: white;padding-right: 0.2em;padding-left: 0.2em;position: relative;}#sk-container-id-1 div.sk-item {position: relative;z-index: 1;}#sk-container-id-1 div.sk-parallel {display: flex;align-items: stretch;justify-content: center;background-color: white;position: relative;}#sk-container-id-1 div.sk-item::before, #sk-container-id-1 div.sk-parallel-item::before {content: \"\";position: absolute;border-left: 1px solid gray;box-sizing: border-box;top: 0;bottom: 0;left: 50%;z-index: -1;}#sk-container-id-1 div.sk-parallel-item {display: flex;flex-direction: column;z-index: 1;position: relative;background-color: white;}#sk-container-id-1 div.sk-parallel-item:first-child::after {align-self: flex-end;width: 50%;}#sk-container-id-1 div.sk-parallel-item:last-child::after {align-self: flex-start;width: 50%;}#sk-container-id-1 div.sk-parallel-item:only-child::after {width: 0;}#sk-container-id-1 div.sk-dashed-wrapped {border: 1px dashed gray;margin: 0 0.4em 0.5em 0.4em;box-sizing: border-box;padding-bottom: 0.4em;background-color: white;}#sk-container-id-1 div.sk-label label {font-family: monospace;font-weight: bold;display: inline-block;line-height: 1.2em;}#sk-container-id-1 div.sk-label-container {text-align: center;}#sk-container-id-1 div.sk-container {/* jupyter's `normalize.less` sets `[hidden] { display: none; }` but bootstrap.min.css set `[hidden] { display: none !important; }` so we also need the `!important` here to be able to override the default hidden behavior on the sphinx rendered scikit-learn.org. See: https://github.com/scikit-learn/scikit-learn/issues/21755 */display: inline-block !important;position: relative;}#sk-container-id-1 div.sk-text-repr-fallback {display: none;}</style><div id=\"sk-container-id-1\" class=\"sk-top-container\"><div class=\"sk-text-repr-fallback\"><pre>LogisticRegression(multi_class=&#x27;multinomial&#x27;, random_state=0, solver=&#x27;saga&#x27;)</pre><b>In a Jupyter environment, please rerun this cell to show the HTML representation or trust the notebook. <br />On GitHub, the HTML representation is unable to render, please try loading this page with nbviewer.org.</b></div><div class=\"sk-container\" hidden><div class=\"sk-item\"><div class=\"sk-estimator sk-toggleable\"><input class=\"sk-toggleable__control sk-hidden--visually\" id=\"sk-estimator-id-1\" type=\"checkbox\" checked><label for=\"sk-estimator-id-1\" class=\"sk-toggleable__label sk-toggleable__label-arrow\">LogisticRegression</label><div class=\"sk-toggleable__content\"><pre>LogisticRegression(multi_class=&#x27;multinomial&#x27;, random_state=0, solver=&#x27;saga&#x27;)</pre></div></div></div></div></div>"
      ],
      "text/plain": [
       "LogisticRegression(multi_class='multinomial', random_state=0, solver='saga')"
      ]
     },
     "execution_count": 20,
     "metadata": {},
     "output_type": "execute_result"
    }
   ],
   "source": [
    "from sklearn.linear_model import LogisticRegression\n",
    "classification = LogisticRegression(random_state = 0, solver = 'saga',\n",
    "                  multi_class = 'multinomial')\n",
    "\n",
    "classification.fit(X_train_transformed, y_train)"
   ]
  },
  {
   "cell_type": "code",
   "execution_count": null,
   "id": "bcc0fc4f",
   "metadata": {},
   "outputs": [],
   "source": [
    "#fig, ax = plt.subplots()\n",
    "#regression_line = lm.intercept_ + lm.coef_[0]*reg_data['AVGGIFT'] # b_0 + b_1 * x\n",
    "#ax.plot(reg_data['AVGGIFT'], regression_line, c = 'orange') # the line in the plot\n",
    "#sns.scatterplot(data=reg_data, x='AVGGIFT',y='TARGET_D', ax=ax)\n",
    "#plt.show()"
   ]
  },
  {
   "cell_type": "code",
   "execution_count": 21,
   "id": "a94457b6",
   "metadata": {},
   "outputs": [],
   "source": [
    "X_test_transformed = pd.concat([X_test_norm, X_test_cat], axis = 1)"
   ]
  },
  {
   "cell_type": "code",
   "execution_count": 22,
   "id": "cf5bb34e",
   "metadata": {},
   "outputs": [
    {
     "name": "stdout",
     "output_type": "stream",
     "text": [
      "0.675\n"
     ]
    },
    {
     "data": {
      "text/plain": [
       "0.675"
      ]
     },
     "execution_count": 22,
     "metadata": {},
     "output_type": "execute_result"
    }
   ],
   "source": [
    "# 5. Create a logistic regression model to predict 'rented_in_may' from the cleaned data.\n",
    "\n",
    "from sklearn.metrics import accuracy_score\n",
    "y_test_pred = classification.predict(X_test_transformed)\n",
    "\n",
    "print(accuracy_score(y_test,y_test_pred))\n",
    "classification.score(X_test_transformed, y_test)"
   ]
  },
  {
   "cell_type": "code",
   "execution_count": 23,
   "id": "7394192c",
   "metadata": {},
   "outputs": [
    {
     "data": {
      "image/png": "[encoded data removed]",
      "text/plain": [
       "<Figure size 640x480 with 2 Axes>"
      ]
     },
     "metadata": {},
     "output_type": "display_data"
    }
   ],
   "source": [
    "from sklearn.metrics import confusion_matrix, ConfusionMatrixDisplay\n",
    "\n",
    "confusion_matrix(y_test, y_test_pred)\n",
    "\n",
    "cm_test = confusion_matrix(y_test, y_test_pred)\n",
    "\n",
    "disp = ConfusionMatrixDisplay(cm_test,display_labels = classification.classes_)\n",
    "disp.plot()\n",
    "plt.show()"
   ]
  },
  {
   "cell_type": "code",
   "execution_count": 24,
   "id": "0b0b2f34",
   "metadata": {},
   "outputs": [
    {
     "data": {
      "text/plain": [
       "0.003373198405397071"
      ]
     },
     "execution_count": 24,
     "metadata": {},
     "output_type": "execute_result"
    }
   ],
   "source": [
    "from sklearn.metrics import cohen_kappa_score\n",
    "cohen_kappa_score(y_test, y_test_pred) # disaster due to class imbalance "
   ]
  },
  {
   "cell_type": "code",
   "execution_count": 25,
   "id": "2c76c381",
   "metadata": {},
   "outputs": [
    {
     "name": "stdout",
     "output_type": "stream",
     "text": [
      "              precision    recall  f1-score   support\n",
      "\n",
      "          no       0.33      0.03      0.06        63\n",
      "         yes       0.69      0.97      0.80       137\n",
      "\n",
      "    accuracy                           0.68       200\n",
      "   macro avg       0.51      0.50      0.43       200\n",
      "weighted avg       0.57      0.68      0.57       200\n",
      "\n"
     ]
    }
   ],
   "source": [
    "from sklearn.metrics import classification_report\n",
    "\n",
    "print(classification_report(y_test, y_test_pred))"
   ]
  },
  {
   "cell_type": "code",
   "execution_count": 26,
   "id": "fa459cda",
   "metadata": {},
   "outputs": [
    {
     "data": {
      "text/plain": [
       "yes    194\n",
       "no       6\n",
       "Name: count, dtype: int64"
      ]
     },
     "execution_count": 26,
     "metadata": {},
     "output_type": "execute_result"
    }
   ],
   "source": [
    "pd.Series(y_test_pred).value_counts() # very high class imbalance"
   ]
  },
  {
   "cell_type": "code",
   "execution_count": null,
   "id": "e54c517f",
   "metadata": {},
   "outputs": [],
   "source": [
    "# 6. Evaluate the results.\n",
    "\n",
    "# considering 200 values used in the prediction, 32.5% were predicted wrong. \n",
    "# Accuracy: 0.675 -> not so low because it was easier to the model to classified it as 'yes' then 'no', not suitable \n",
    "# to judge this set of data due to the class imbalance. \n",
    "# Precision: same logic as above.\n",
    "# Recall: same logic as above, very high because it could find most of the positive samples.\n",
    "# f1-score: f1 is a good metric for class imbalance, since it balances precision and recall. \n",
    "# Kappa score: Extremely low in this case due to class imbalance. Values for this should be above 0.65 for the model to be valid.\n",
    "\n",
    "# Solutions here: -  Use more features for the predict model from the sakila database. \n",
    "#                 - Use different approaches to balance the class distribution. "
   ]
  }
 ],
 "metadata": {
  "kernelspec": {
   "display_name": "Python 3 (ipykernel)",
   "language": "python",
   "name": "python3"
  },
  "language_info": {
   "codemirror_mode": {
    "name": "ipython",
    "version": 3
   },
   "file_extension": ".py",
   "mimetype": "text/x-python",
   "name": "python",
   "nbconvert_exporter": "python",
   "pygments_lexer": "ipython3",
   "version": "3.11.5"
  }
 },
 "nbformat": 4,
 "nbformat_minor": 5
}
